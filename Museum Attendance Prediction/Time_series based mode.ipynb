{
 "cells": [
  {
   "cell_type": "code",
   "execution_count": 128,
   "metadata": {},
   "outputs": [],
   "source": [
    "import pandas as pd\n",
    "import numpy as np\n",
    "import math"
   ]
  },
  {
   "cell_type": "code",
   "execution_count": 129,
   "metadata": {},
   "outputs": [],
   "source": [
    "time_series = pd.read_csv(\"time_series_attendance.csv\")"
   ]
  },
  {
   "cell_type": "code",
   "execution_count": 130,
   "metadata": {},
   "outputs": [
    {
     "data": {
      "text/html": [
       "<div>\n",
       "<style scoped>\n",
       "    .dataframe tbody tr th:only-of-type {\n",
       "        vertical-align: middle;\n",
       "    }\n",
       "\n",
       "    .dataframe tbody tr th {\n",
       "        vertical-align: top;\n",
       "    }\n",
       "\n",
       "    .dataframe thead th {\n",
       "        text-align: right;\n",
       "    }\n",
       "</style>\n",
       "<table border=\"1\" class=\"dataframe\">\n",
       "  <thead>\n",
       "    <tr style=\"text-align: right;\">\n",
       "      <th></th>\n",
       "      <th>month</th>\n",
       "      <th>attendance</th>\n",
       "      <th>month_id</th>\n",
       "      <th>region_Japan</th>\n",
       "      <th>region_China</th>\n",
       "      <th>region_Korea</th>\n",
       "      <th>region_South Asia</th>\n",
       "      <th>region_The Himalayas and the Tibetan Buddhist World</th>\n",
       "      <th>region_None</th>\n",
       "      <th>region_Southeast Asia</th>\n",
       "      <th>...</th>\n",
       "      <th>Market Budget Flag_Medium</th>\n",
       "      <th>Market Budget Flag_High</th>\n",
       "      <th>Construction Period Flag_1.0</th>\n",
       "      <th>Construction Period Flag_0.0</th>\n",
       "      <th>size_missing_0</th>\n",
       "      <th>size_missing_1</th>\n",
       "      <th>duration_avg</th>\n",
       "      <th>size_avg</th>\n",
       "      <th>exclusivity_sum</th>\n",
       "      <th>story_sum</th>\n",
       "    </tr>\n",
       "  </thead>\n",
       "  <tbody>\n",
       "    <tr>\n",
       "      <td>0</td>\n",
       "      <td>11/1/2012</td>\n",
       "      <td>11634</td>\n",
       "      <td>1</td>\n",
       "      <td>1</td>\n",
       "      <td>1</td>\n",
       "      <td>0</td>\n",
       "      <td>2</td>\n",
       "      <td>0</td>\n",
       "      <td>0</td>\n",
       "      <td>0</td>\n",
       "      <td>...</td>\n",
       "      <td>0</td>\n",
       "      <td>0</td>\n",
       "      <td>0</td>\n",
       "      <td>4</td>\n",
       "      <td>3</td>\n",
       "      <td>1</td>\n",
       "      <td>276.5</td>\n",
       "      <td>10.75</td>\n",
       "      <td>1</td>\n",
       "      <td>2</td>\n",
       "    </tr>\n",
       "  </tbody>\n",
       "</table>\n",
       "<p>1 rows × 48 columns</p>\n",
       "</div>"
      ],
      "text/plain": [
       "       month  attendance  month_id  region_Japan  region_China  region_Korea  \\\n",
       "0  11/1/2012       11634         1             1             1             0   \n",
       "\n",
       "   region_South Asia  region_The Himalayas and the Tibetan Buddhist World  \\\n",
       "0                  2                                                  0     \n",
       "\n",
       "   region_None  region_Southeast Asia  ...  Market Budget Flag_Medium  \\\n",
       "0            0                      0  ...                          0   \n",
       "\n",
       "   Market Budget Flag_High  Construction Period Flag_1.0  \\\n",
       "0                        0                             0   \n",
       "\n",
       "   Construction Period Flag_0.0  size_missing_0  size_missing_1  duration_avg  \\\n",
       "0                             4               3               1         276.5   \n",
       "\n",
       "   size_avg  exclusivity_sum  story_sum  \n",
       "0     10.75                1          2  \n",
       "\n",
       "[1 rows x 48 columns]"
      ]
     },
     "execution_count": 130,
     "metadata": {},
     "output_type": "execute_result"
    }
   ],
   "source": [
    "time_series.head(1)"
   ]
  },
  {
   "cell_type": "code",
   "execution_count": 131,
   "metadata": {},
   "outputs": [
    {
     "data": {
      "text/html": [
       "<div>\n",
       "<style scoped>\n",
       "    .dataframe tbody tr th:only-of-type {\n",
       "        vertical-align: middle;\n",
       "    }\n",
       "\n",
       "    .dataframe tbody tr th {\n",
       "        vertical-align: top;\n",
       "    }\n",
       "\n",
       "    .dataframe thead th {\n",
       "        text-align: right;\n",
       "    }\n",
       "</style>\n",
       "<table border=\"1\" class=\"dataframe\">\n",
       "  <thead>\n",
       "    <tr style=\"text-align: right;\">\n",
       "      <th></th>\n",
       "      <th>attendance</th>\n",
       "      <th>month_id</th>\n",
       "      <th>region_Japan</th>\n",
       "      <th>region_China</th>\n",
       "      <th>region_Korea</th>\n",
       "      <th>region_South Asia</th>\n",
       "      <th>region_The Himalayas and the Tibetan Buddhist World</th>\n",
       "      <th>region_None</th>\n",
       "      <th>region_Southeast Asia</th>\n",
       "      <th>region_The Persian World and West Asia</th>\n",
       "      <th>...</th>\n",
       "      <th>Market Budget Flag_Medium</th>\n",
       "      <th>Market Budget Flag_High</th>\n",
       "      <th>Construction Period Flag_1.0</th>\n",
       "      <th>Construction Period Flag_0.0</th>\n",
       "      <th>size_missing_0</th>\n",
       "      <th>size_missing_1</th>\n",
       "      <th>duration_avg</th>\n",
       "      <th>size_avg</th>\n",
       "      <th>exclusivity_sum</th>\n",
       "      <th>story_sum</th>\n",
       "    </tr>\n",
       "  </thead>\n",
       "  <tbody>\n",
       "    <tr>\n",
       "      <td>count</td>\n",
       "      <td>80.000000</td>\n",
       "      <td>80.0000</td>\n",
       "      <td>80.000000</td>\n",
       "      <td>80.000000</td>\n",
       "      <td>80.000000</td>\n",
       "      <td>80.000000</td>\n",
       "      <td>80.000000</td>\n",
       "      <td>80.00000</td>\n",
       "      <td>80.00000</td>\n",
       "      <td>80.000000</td>\n",
       "      <td>...</td>\n",
       "      <td>80.000000</td>\n",
       "      <td>80.000000</td>\n",
       "      <td>80.000000</td>\n",
       "      <td>80.000000</td>\n",
       "      <td>80.000000</td>\n",
       "      <td>80.000000</td>\n",
       "      <td>80.000000</td>\n",
       "      <td>80.000000</td>\n",
       "      <td>80.000000</td>\n",
       "      <td>80.000000</td>\n",
       "    </tr>\n",
       "    <tr>\n",
       "      <td>mean</td>\n",
       "      <td>17768.525000</td>\n",
       "      <td>40.5000</td>\n",
       "      <td>1.250000</td>\n",
       "      <td>1.312500</td>\n",
       "      <td>0.712500</td>\n",
       "      <td>1.337500</td>\n",
       "      <td>0.375000</td>\n",
       "      <td>0.40000</td>\n",
       "      <td>0.23750</td>\n",
       "      <td>0.075000</td>\n",
       "      <td>...</td>\n",
       "      <td>0.375000</td>\n",
       "      <td>0.462500</td>\n",
       "      <td>1.550000</td>\n",
       "      <td>4.275000</td>\n",
       "      <td>4.037500</td>\n",
       "      <td>1.787500</td>\n",
       "      <td>184.518379</td>\n",
       "      <td>27.403607</td>\n",
       "      <td>1.862500</td>\n",
       "      <td>2.525000</td>\n",
       "    </tr>\n",
       "    <tr>\n",
       "      <td>std</td>\n",
       "      <td>11522.427083</td>\n",
       "      <td>23.2379</td>\n",
       "      <td>1.195985</td>\n",
       "      <td>1.120508</td>\n",
       "      <td>0.659761</td>\n",
       "      <td>0.980103</td>\n",
       "      <td>0.559724</td>\n",
       "      <td>0.56479</td>\n",
       "      <td>0.45684</td>\n",
       "      <td>0.265053</td>\n",
       "      <td>...</td>\n",
       "      <td>0.536633</td>\n",
       "      <td>0.673997</td>\n",
       "      <td>1.358517</td>\n",
       "      <td>2.959537</td>\n",
       "      <td>2.089417</td>\n",
       "      <td>1.154997</td>\n",
       "      <td>42.403449</td>\n",
       "      <td>18.869364</td>\n",
       "      <td>1.122201</td>\n",
       "      <td>1.550623</td>\n",
       "    </tr>\n",
       "    <tr>\n",
       "      <td>min</td>\n",
       "      <td>7255.000000</td>\n",
       "      <td>1.0000</td>\n",
       "      <td>0.000000</td>\n",
       "      <td>0.000000</td>\n",
       "      <td>0.000000</td>\n",
       "      <td>0.000000</td>\n",
       "      <td>0.000000</td>\n",
       "      <td>0.00000</td>\n",
       "      <td>0.00000</td>\n",
       "      <td>0.000000</td>\n",
       "      <td>...</td>\n",
       "      <td>0.000000</td>\n",
       "      <td>0.000000</td>\n",
       "      <td>0.000000</td>\n",
       "      <td>0.000000</td>\n",
       "      <td>1.000000</td>\n",
       "      <td>0.000000</td>\n",
       "      <td>81.333333</td>\n",
       "      <td>1.000000</td>\n",
       "      <td>0.000000</td>\n",
       "      <td>0.000000</td>\n",
       "    </tr>\n",
       "    <tr>\n",
       "      <td>25%</td>\n",
       "      <td>11862.750000</td>\n",
       "      <td>20.7500</td>\n",
       "      <td>0.000000</td>\n",
       "      <td>0.000000</td>\n",
       "      <td>0.000000</td>\n",
       "      <td>1.000000</td>\n",
       "      <td>0.000000</td>\n",
       "      <td>0.00000</td>\n",
       "      <td>0.00000</td>\n",
       "      <td>0.000000</td>\n",
       "      <td>...</td>\n",
       "      <td>0.000000</td>\n",
       "      <td>0.000000</td>\n",
       "      <td>0.000000</td>\n",
       "      <td>1.750000</td>\n",
       "      <td>2.000000</td>\n",
       "      <td>1.000000</td>\n",
       "      <td>152.414773</td>\n",
       "      <td>13.250000</td>\n",
       "      <td>1.000000</td>\n",
       "      <td>1.000000</td>\n",
       "    </tr>\n",
       "    <tr>\n",
       "      <td>50%</td>\n",
       "      <td>14502.000000</td>\n",
       "      <td>40.5000</td>\n",
       "      <td>1.000000</td>\n",
       "      <td>1.000000</td>\n",
       "      <td>1.000000</td>\n",
       "      <td>1.000000</td>\n",
       "      <td>0.000000</td>\n",
       "      <td>0.00000</td>\n",
       "      <td>0.00000</td>\n",
       "      <td>0.000000</td>\n",
       "      <td>...</td>\n",
       "      <td>0.000000</td>\n",
       "      <td>0.000000</td>\n",
       "      <td>2.000000</td>\n",
       "      <td>5.000000</td>\n",
       "      <td>4.000000</td>\n",
       "      <td>2.000000</td>\n",
       "      <td>183.873016</td>\n",
       "      <td>22.866667</td>\n",
       "      <td>2.000000</td>\n",
       "      <td>2.000000</td>\n",
       "    </tr>\n",
       "    <tr>\n",
       "      <td>75%</td>\n",
       "      <td>18773.500000</td>\n",
       "      <td>60.2500</td>\n",
       "      <td>2.000000</td>\n",
       "      <td>2.000000</td>\n",
       "      <td>1.000000</td>\n",
       "      <td>2.000000</td>\n",
       "      <td>1.000000</td>\n",
       "      <td>1.00000</td>\n",
       "      <td>0.00000</td>\n",
       "      <td>0.000000</td>\n",
       "      <td>...</td>\n",
       "      <td>1.000000</td>\n",
       "      <td>1.000000</td>\n",
       "      <td>2.000000</td>\n",
       "      <td>6.000000</td>\n",
       "      <td>5.250000</td>\n",
       "      <td>3.000000</td>\n",
       "      <td>213.339286</td>\n",
       "      <td>40.035714</td>\n",
       "      <td>3.000000</td>\n",
       "      <td>4.000000</td>\n",
       "    </tr>\n",
       "    <tr>\n",
       "      <td>max</td>\n",
       "      <td>81023.000000</td>\n",
       "      <td>80.0000</td>\n",
       "      <td>5.000000</td>\n",
       "      <td>4.000000</td>\n",
       "      <td>3.000000</td>\n",
       "      <td>4.000000</td>\n",
       "      <td>2.000000</td>\n",
       "      <td>2.00000</td>\n",
       "      <td>2.00000</td>\n",
       "      <td>1.000000</td>\n",
       "      <td>...</td>\n",
       "      <td>2.000000</td>\n",
       "      <td>3.000000</td>\n",
       "      <td>6.000000</td>\n",
       "      <td>11.000000</td>\n",
       "      <td>11.000000</td>\n",
       "      <td>4.000000</td>\n",
       "      <td>311.000000</td>\n",
       "      <td>111.500000</td>\n",
       "      <td>4.000000</td>\n",
       "      <td>6.000000</td>\n",
       "    </tr>\n",
       "  </tbody>\n",
       "</table>\n",
       "<p>8 rows × 47 columns</p>\n",
       "</div>"
      ],
      "text/plain": [
       "         attendance  month_id  region_Japan  region_China  region_Korea  \\\n",
       "count     80.000000   80.0000     80.000000     80.000000     80.000000   \n",
       "mean   17768.525000   40.5000      1.250000      1.312500      0.712500   \n",
       "std    11522.427083   23.2379      1.195985      1.120508      0.659761   \n",
       "min     7255.000000    1.0000      0.000000      0.000000      0.000000   \n",
       "25%    11862.750000   20.7500      0.000000      0.000000      0.000000   \n",
       "50%    14502.000000   40.5000      1.000000      1.000000      1.000000   \n",
       "75%    18773.500000   60.2500      2.000000      2.000000      1.000000   \n",
       "max    81023.000000   80.0000      5.000000      4.000000      3.000000   \n",
       "\n",
       "       region_South Asia  region_The Himalayas and the Tibetan Buddhist World  \\\n",
       "count          80.000000                                          80.000000     \n",
       "mean            1.337500                                           0.375000     \n",
       "std             0.980103                                           0.559724     \n",
       "min             0.000000                                           0.000000     \n",
       "25%             1.000000                                           0.000000     \n",
       "50%             1.000000                                           0.000000     \n",
       "75%             2.000000                                           1.000000     \n",
       "max             4.000000                                           2.000000     \n",
       "\n",
       "       region_None  region_Southeast Asia  \\\n",
       "count     80.00000               80.00000   \n",
       "mean       0.40000                0.23750   \n",
       "std        0.56479                0.45684   \n",
       "min        0.00000                0.00000   \n",
       "25%        0.00000                0.00000   \n",
       "50%        0.00000                0.00000   \n",
       "75%        1.00000                0.00000   \n",
       "max        2.00000                2.00000   \n",
       "\n",
       "       region_The Persian World and West Asia  ...  Market Budget Flag_Medium  \\\n",
       "count                               80.000000  ...                  80.000000   \n",
       "mean                                 0.075000  ...                   0.375000   \n",
       "std                                  0.265053  ...                   0.536633   \n",
       "min                                  0.000000  ...                   0.000000   \n",
       "25%                                  0.000000  ...                   0.000000   \n",
       "50%                                  0.000000  ...                   0.000000   \n",
       "75%                                  0.000000  ...                   1.000000   \n",
       "max                                  1.000000  ...                   2.000000   \n",
       "\n",
       "       Market Budget Flag_High  Construction Period Flag_1.0  \\\n",
       "count                80.000000                     80.000000   \n",
       "mean                  0.462500                      1.550000   \n",
       "std                   0.673997                      1.358517   \n",
       "min                   0.000000                      0.000000   \n",
       "25%                   0.000000                      0.000000   \n",
       "50%                   0.000000                      2.000000   \n",
       "75%                   1.000000                      2.000000   \n",
       "max                   3.000000                      6.000000   \n",
       "\n",
       "       Construction Period Flag_0.0  size_missing_0  size_missing_1  \\\n",
       "count                     80.000000       80.000000       80.000000   \n",
       "mean                       4.275000        4.037500        1.787500   \n",
       "std                        2.959537        2.089417        1.154997   \n",
       "min                        0.000000        1.000000        0.000000   \n",
       "25%                        1.750000        2.000000        1.000000   \n",
       "50%                        5.000000        4.000000        2.000000   \n",
       "75%                        6.000000        5.250000        3.000000   \n",
       "max                       11.000000       11.000000        4.000000   \n",
       "\n",
       "       duration_avg    size_avg  exclusivity_sum  story_sum  \n",
       "count     80.000000   80.000000        80.000000  80.000000  \n",
       "mean     184.518379   27.403607         1.862500   2.525000  \n",
       "std       42.403449   18.869364         1.122201   1.550623  \n",
       "min       81.333333    1.000000         0.000000   0.000000  \n",
       "25%      152.414773   13.250000         1.000000   1.000000  \n",
       "50%      183.873016   22.866667         2.000000   2.000000  \n",
       "75%      213.339286   40.035714         3.000000   4.000000  \n",
       "max      311.000000  111.500000         4.000000   6.000000  \n",
       "\n",
       "[8 rows x 47 columns]"
      ]
     },
     "execution_count": 131,
     "metadata": {},
     "output_type": "execute_result"
    }
   ],
   "source": [
    "time_series.describe()"
   ]
  },
  {
   "cell_type": "code",
   "execution_count": 132,
   "metadata": {
    "scrolled": true
   },
   "outputs": [
    {
     "name": "stdout",
     "output_type": "stream",
     "text": [
      "<class 'pandas.core.frame.DataFrame'>\n",
      "RangeIndex: 80 entries, 0 to 79\n",
      "Data columns (total 48 columns):\n",
      "month                                                  80 non-null object\n",
      "attendance                                             80 non-null int64\n",
      "month_id                                               80 non-null int64\n",
      "region_Japan                                           80 non-null int64\n",
      "region_China                                           80 non-null int64\n",
      "region_Korea                                           80 non-null int64\n",
      "region_South Asia                                      80 non-null int64\n",
      "region_The Himalayas and the Tibetan Buddhist World    80 non-null int64\n",
      "region_None                                            80 non-null int64\n",
      "region_Southeast Asia                                  80 non-null int64\n",
      "region_The Persian World and West Asia                 80 non-null int64\n",
      "region_Entire Asia                                     80 non-null int64\n",
      "country_Japanese                                       80 non-null int64\n",
      "country_Chinese                                        80 non-null int64\n",
      "country_Korean                                         80 non-null int64\n",
      "country_Indian                                         80 non-null int64\n",
      "country_Tibetan                                        80 non-null int64\n",
      "country_Various                                        80 non-null int64\n",
      "country_Philippine                                     80 non-null int64\n",
      "country_Pakistan                                       80 non-null int64\n",
      "country_None                                           80 non-null int64\n",
      "country_Arabia                                         80 non-null int64\n",
      "country_Asian                                          80 non-null int64\n",
      "country_Persian                                        80 non-null int64\n",
      "country_Indonesian                                     80 non-null int64\n",
      "Timeline type_Contemporary                             80 non-null int64\n",
      "Timeline type_Pre-Modern                               80 non-null int64\n",
      "Timeline type_Modern/Contemporary                      80 non-null int64\n",
      "Timeline type_Modern                                   80 non-null int64\n",
      "Timeline type_Pre-Modern/Modern and Contemporary       80 non-null int64\n",
      "Timeline type_None                                     80 non-null int64\n",
      "Timeline type_Pre-Modern/Modern                        80 non-null int64\n",
      "artists popularity_Not Popular                         80 non-null int64\n",
      "artists popularity_Popular                             80 non-null int64\n",
      "artists popularity_No Artist                           80 non-null int64\n",
      "artists popularity_popular                             80 non-null int64\n",
      "artists popularity_No Artist                           80 non-null int64\n",
      "Market Budget Flag_Low                                 80 non-null int64\n",
      "Market Budget Flag_Medium                              80 non-null int64\n",
      "Market Budget Flag_High                                80 non-null int64\n",
      "Construction Period Flag_1.0                           80 non-null int64\n",
      "Construction Period Flag_0.0                           80 non-null int64\n",
      "size_missing_0                                         80 non-null int64\n",
      "size_missing_1                                         80 non-null int64\n",
      "duration_avg                                           80 non-null float64\n",
      "size_avg                                               80 non-null float64\n",
      "exclusivity_sum                                        80 non-null int64\n",
      "story_sum                                              80 non-null int64\n",
      "dtypes: float64(2), int64(45), object(1)\n",
      "memory usage: 30.1+ KB\n"
     ]
    }
   ],
   "source": [
    "time_series.info()"
   ]
  },
  {
   "cell_type": "markdown",
   "metadata": {},
   "source": [
    "### Scale the duration & size column to 0-10"
   ]
  },
  {
   "cell_type": "code",
   "execution_count": 133,
   "metadata": {},
   "outputs": [],
   "source": [
    "def scale_column(column):\n",
    "    length = len(column)\n",
    "    min_value = column.min()\n",
    "    max_value = column.max()\n",
    "    for i in range(length):\n",
    "        column[i]= (column[i]  - min_value)/(max_value - min_value)\n",
    "    return column"
   ]
  },
  {
   "cell_type": "code",
   "execution_count": 134,
   "metadata": {},
   "outputs": [
    {
     "name": "stderr",
     "output_type": "stream",
     "text": [
      "/Users/lush/opt/anaconda3/lib/python3.7/site-packages/ipykernel_launcher.py:6: SettingWithCopyWarning: \n",
      "A value is trying to be set on a copy of a slice from a DataFrame\n",
      "\n",
      "See the caveats in the documentation: http://pandas.pydata.org/pandas-docs/stable/user_guide/indexing.html#returning-a-view-versus-a-copy\n",
      "  \n"
     ]
    }
   ],
   "source": [
    "time_series[\"duration_avg\"] = scale_column(time_series[\"duration_avg\"])"
   ]
  },
  {
   "cell_type": "code",
   "execution_count": 135,
   "metadata": {},
   "outputs": [
    {
     "name": "stderr",
     "output_type": "stream",
     "text": [
      "/Users/lush/opt/anaconda3/lib/python3.7/site-packages/ipykernel_launcher.py:6: SettingWithCopyWarning: \n",
      "A value is trying to be set on a copy of a slice from a DataFrame\n",
      "\n",
      "See the caveats in the documentation: http://pandas.pydata.org/pandas-docs/stable/user_guide/indexing.html#returning-a-view-versus-a-copy\n",
      "  \n"
     ]
    }
   ],
   "source": [
    "time_series[\"size_avg\"] = scale_column(time_series[\"size_avg\"])"
   ]
  },
  {
   "cell_type": "markdown",
   "metadata": {},
   "source": [
    "### Regression model"
   ]
  },
  {
   "cell_type": "code",
   "execution_count": 136,
   "metadata": {},
   "outputs": [],
   "source": [
    "from sklearn.linear_model import LinearRegression"
   ]
  },
  {
   "cell_type": "code",
   "execution_count": 137,
   "metadata": {},
   "outputs": [],
   "source": [
    "x_columns = [i for i in time_series.columns if i not in [\"attendance\",\"month\",\"month_id\"]]"
   ]
  },
  {
   "cell_type": "code",
   "execution_count": 138,
   "metadata": {},
   "outputs": [],
   "source": [
    "time_series_x = time_series[x_columns]\n",
    "time_series_y = time_series[\"attendance\"]"
   ]
  },
  {
   "cell_type": "code",
   "execution_count": 139,
   "metadata": {},
   "outputs": [],
   "source": [
    "def log_transformation(x):\n",
    "    x = math.log(x,10)\n",
    "    return x"
   ]
  },
  {
   "cell_type": "code",
   "execution_count": 141,
   "metadata": {},
   "outputs": [],
   "source": [
    "time_series_y = time_series_y.apply(log_transformation)"
   ]
  },
  {
   "cell_type": "code",
   "execution_count": 142,
   "metadata": {},
   "outputs": [
    {
     "data": {
      "text/plain": [
       "pandas.core.series.Series"
      ]
     },
     "execution_count": 142,
     "metadata": {},
     "output_type": "execute_result"
    }
   ],
   "source": [
    "type(time_series_y)"
   ]
  },
  {
   "cell_type": "code",
   "execution_count": 143,
   "metadata": {},
   "outputs": [],
   "source": [
    "train_x = time_series_x.iloc[0:50,]\n",
    "train_y = pd.DataFrame(time_series_y).iloc[0:50,]\n",
    "test_x = time_series_x.iloc[50:81,]\n",
    "test_y = pd.DataFrame(time_series_y).iloc[50:81,]"
   ]
  },
  {
   "cell_type": "code",
   "execution_count": 144,
   "metadata": {},
   "outputs": [
    {
     "data": {
      "text/plain": [
       "-17.55042767219059"
      ]
     },
     "execution_count": 144,
     "metadata": {},
     "output_type": "execute_result"
    }
   ],
   "source": [
    "regression_model = LinearRegression()\n",
    "regression_model.fit(train_x,train_y)\n",
    "regression_predict = regression_model.predict(test_x)\n",
    "regression_model.score(test_x,test_y)\n"
   ]
  },
  {
   "cell_type": "code",
   "execution_count": 164,
   "metadata": {},
   "outputs": [
    {
     "data": {
      "text/plain": [
       "array([[ 0.02124683,  0.02441737,  0.07578194,  0.01665572, -0.10346094,\n",
       "         0.17125647, -0.11625876, -0.0688607 , -0.05235991,  0.02124683,\n",
       "         0.02441737,  0.07578194,  0.03659001,  0.24959844,  0.00769   ,\n",
       "         0.04364736, -0.04755858, -0.16186862,  0.10514106, -0.05235991,\n",
       "        -0.17400176, -0.15990612,  0.06819512,  0.17853793,  0.02762429,\n",
       "        -0.10180763, -0.07219666, -0.04755858, -0.08437643,  0.0101336 ,\n",
       "         0.0013448 ,  0.11157485, -0.09511716, -0.05951807, -0.05181477,\n",
       "        -0.07184189,  0.09207468,  0.02022022, -0.05180219, -0.10405492,\n",
       "         0.07247295, -0.9185333 , -1.068354  , -0.18395516,  0.05057316]])"
      ]
     },
     "execution_count": 164,
     "metadata": {},
     "output_type": "execute_result"
    }
   ],
   "source": [
    "regression_model.coef_"
   ]
  },
  {
   "cell_type": "code",
   "execution_count": 145,
   "metadata": {},
   "outputs": [],
   "source": [
    "def reverse_log_transformation(x):\n",
    "    x = 10**x\n",
    "    return x"
   ]
  },
  {
   "cell_type": "code",
   "execution_count": 146,
   "metadata": {},
   "outputs": [],
   "source": [
    "regression_predict = pd.DataFrame(regression_predict).apply(reverse_log_transformation)\n",
    "test_y = test_y.apply(reverse_log_transformation)"
   ]
  },
  {
   "cell_type": "code",
   "execution_count": 156,
   "metadata": {},
   "outputs": [
    {
     "data": {
      "text/plain": [
       "0.653409384220602"
      ]
     },
     "execution_count": 156,
     "metadata": {},
     "output_type": "execute_result"
    }
   ],
   "source": [
    "(abs(regression_predict.values-test_y.values)/test_y.values).mean()"
   ]
  },
  {
   "cell_type": "code",
   "execution_count": 161,
   "metadata": {},
   "outputs": [],
   "source": [
    "import matplotlib.pyplot as plt\n"
   ]
  },
  {
   "cell_type": "code",
   "execution_count": 163,
   "metadata": {},
   "outputs": [
    {
     "data": {
      "text/plain": [
       "<matplotlib.legend.Legend at 0x1a26570750>"
      ]
     },
     "execution_count": 163,
     "metadata": {},
     "output_type": "execute_result"
    },
    {
     "data": {
      "image/png": "[encoded data removed]",
      "text/plain": [
       "<Figure size 432x288 with 1 Axes>"
      ]
     },
     "metadata": {
      "needs_background": "light"
     },
     "output_type": "display_data"
    }
   ],
   "source": [
    "x_position = np.linspace(1,30,30)\n",
    "plt.plot(x_position,test_y,color='y',alpha = 0.6,label='True Attendance')\n",
    "plt.plot(x_position,regression_predict.values,color='b',alpha = 0.6,label='Predictive Attendance')\n",
    "plt.xlabel('Month')\n",
    "plt.ylabel('Monthly attendance')\n",
    "plt.title('Prediction for monthly attendance')\n",
    "plt.legend(loc='upper left')\n"
   ]
  }
 ],
 "metadata": {
  "kernelspec": {
   "display_name": "Python 3",
   "language": "python",
   "name": "python3"
  },
  "language_info": {
   "codemirror_mode": {
    "name": "ipython",
    "version": 3
   },
   "file_extension": ".py",
   "mimetype": "text/x-python",
   "name": "python",
   "nbconvert_exporter": "python",
   "pygments_lexer": "ipython3",
   "version": "3.7.4"
  }
 },
 "nbformat": 4,
 "nbformat_minor": 2
}
