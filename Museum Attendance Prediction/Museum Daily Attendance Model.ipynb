{
 "cells": [
  {
   "cell_type": "code",
   "execution_count": 45,
   "metadata": {},
   "outputs": [],
   "source": [
    "import pandas as pd\n",
    "import numpy as np\n",
    "from datetime import datetime as dt\n",
    "import matplotlib.pyplot as plt\n"
   ]
  },
  {
   "cell_type": "markdown",
   "metadata": {},
   "source": [
    "# Process the Exhibit Data"
   ]
  },
  {
   "cell_type": "code",
   "execution_count": 46,
   "metadata": {},
   "outputs": [],
   "source": [
    "# Load Exhibit Information\n",
    "exhibit = pd.read_csv(\"Exhibit Based Template - V2_AAM_last_three_years.csv\")\n",
    "exhibit.drop([\"ExhibitionCode\",\"exhibit name \",\"Exhibit Full Name\",\"Exhibit Short name\", \\\n",
    "\"General Attendance\",\"Daily General Attendance\",\"Uptake rate\",\"SE Attendance\", \\\n",
    "\"Construction Period Flag\",\"Market budget\",\"Number of other exhibits\"], axis = 1, inplace= True)"
   ]
  },
  {
   "cell_type": "code",
   "execution_count": 47,
   "metadata": {},
   "outputs": [
    {
     "data": {
      "text/plain": [
       "Index(['start date', 'end date', 'duration', 'country', 'region', 'medium',\n",
       "       'material exclusitivity', 'size', 'space', 'exclusivity', 'Stories',\n",
       "       'Timeline type', 'topic popularity', 'artists popularity',\n",
       "       'Exhibit Prioritized Ranking', 'Market Budget Flag'],\n",
       "      dtype='object')"
      ]
     },
     "execution_count": 47,
     "metadata": {},
     "output_type": "execute_result"
    }
   ],
   "source": [
    "exhibit.columns"
   ]
  },
  {
   "cell_type": "code",
   "execution_count": 48,
   "metadata": {},
   "outputs": [
    {
     "data": {
      "text/plain": [
       "array(['small', 'medium', 'large'], dtype=object)"
      ]
     },
     "execution_count": 48,
     "metadata": {},
     "output_type": "execute_result"
    }
   ],
   "source": [
    "exhibit[\"size\"].unique()"
   ]
  },
  {
   "cell_type": "code",
   "execution_count": 49,
   "metadata": {},
   "outputs": [],
   "source": [
    "# Transform category to scale\n",
    "def category_to_scale(x):\n",
    "    if x == \"small\": x = 1\n",
    "    elif x == \"Low\": x = 1\n",
    "    elif x == \"medium\": x = 2\n",
    "    elif x == \"Medium\": x = 2\n",
    "    elif x == \"large\": x = 3\n",
    "    elif x == \"High\": x = 3\n",
    "    return x"
   ]
  },
  {
   "cell_type": "code",
   "execution_count": 50,
   "metadata": {},
   "outputs": [],
   "source": [
    "exhibit[\"size\"] = exhibit[\"size\"].apply(category_to_scale)\n",
    "exhibit[\"space\"] = exhibit[\"space\"].apply(category_to_scale)\n",
    "exhibit[\"Market Budget Flag\"] = exhibit[\"Market Budget Flag\"].apply(category_to_scale)"
   ]
  },
  {
   "cell_type": "code",
   "execution_count": 51,
   "metadata": {},
   "outputs": [],
   "source": [
    "# Merge medium column\n",
    "exhibit[\"medium\"].value_counts()\n",
    "exhibit.loc[~exhibit[\"medium\"].isin([\"paintings\",\"various\",\"video\",\"lacquerware\"]),\"medium\"] = \"other\""
   ]
  },
  {
   "cell_type": "code",
   "execution_count": 52,
   "metadata": {},
   "outputs": [],
   "source": [
    "def str_to_datetime(x):\n",
    "    x_dt = dt.strptime(x, '%Y/%m/%d')\n",
    "    return x_dt"
   ]
  },
  {
   "cell_type": "code",
   "execution_count": 53,
   "metadata": {},
   "outputs": [],
   "source": [
    "exhibit[\"start date\"] = exhibit[\"start date\"].apply(str_to_datetime)\n",
    "exhibit[\"end date\"] = exhibit[\"end date\"].apply(str_to_datetime)"
   ]
  },
  {
   "cell_type": "code",
   "execution_count": 54,
   "metadata": {},
   "outputs": [],
   "source": [
    "# exhibit.head(1)"
   ]
  },
  {
   "cell_type": "markdown",
   "metadata": {},
   "source": [
    "# Transform to Daily level"
   ]
  },
  {
   "cell_type": "code",
   "execution_count": 55,
   "metadata": {},
   "outputs": [],
   "source": [
    "exhibit_dummy = pd.get_dummies(data = exhibit, columns=['country', 'region','medium','Timeline type'])\n"
   ]
  },
  {
   "cell_type": "markdown",
   "metadata": {},
   "source": [
    "## Add columns to daily level dataset"
   ]
  },
  {
   "cell_type": "code",
   "execution_count": 56,
   "metadata": {},
   "outputs": [],
   "source": [
    "# exhibit_dummy.head(1)"
   ]
  },
  {
   "cell_type": "code",
   "execution_count": 57,
   "metadata": {},
   "outputs": [],
   "source": [
    "# Load daily attendance\n",
    "daily_attendance = pd.read_excel(\"estimated daily attendance.xlsx\",sheet_name=\"Running Total\")\n",
    "daily_attendance = daily_attendance.iloc[:,:4]"
   ]
  },
  {
   "cell_type": "code",
   "execution_count": 58,
   "metadata": {},
   "outputs": [
    {
     "data": {
      "text/html": [
       "<div>\n",
       "<style scoped>\n",
       "    .dataframe tbody tr th:only-of-type {\n",
       "        vertical-align: middle;\n",
       "    }\n",
       "\n",
       "    .dataframe tbody tr th {\n",
       "        vertical-align: top;\n",
       "    }\n",
       "\n",
       "    .dataframe thead th {\n",
       "        text-align: right;\n",
       "    }\n",
       "</style>\n",
       "<table border=\"1\" class=\"dataframe\">\n",
       "  <thead>\n",
       "    <tr style=\"text-align: right;\">\n",
       "      <th></th>\n",
       "      <th>Date</th>\n",
       "      <th>Total Attendance</th>\n",
       "      <th>Weekday</th>\n",
       "      <th>Free Sunday</th>\n",
       "    </tr>\n",
       "  </thead>\n",
       "  <tbody>\n",
       "    <tr>\n",
       "      <td>0</td>\n",
       "      <td>2016-07-01</td>\n",
       "      <td>545</td>\n",
       "      <td>Friday</td>\n",
       "      <td>0</td>\n",
       "    </tr>\n",
       "  </tbody>\n",
       "</table>\n",
       "</div>"
      ],
      "text/plain": [
       "        Date  Total Attendance Weekday  Free Sunday\n",
       "0 2016-07-01               545  Friday            0"
      ]
     },
     "execution_count": 58,
     "metadata": {},
     "output_type": "execute_result"
    }
   ],
   "source": [
    "daily_attendance.head(1)"
   ]
  },
  {
   "cell_type": "markdown",
   "metadata": {},
   "source": [
    "### Find the Free Sunday (First Sunday for each month)"
   ]
  },
  {
   "cell_type": "code",
   "execution_count": 59,
   "metadata": {},
   "outputs": [
    {
     "name": "stderr",
     "output_type": "stream",
     "text": [
      "/Users/lush/opt/anaconda3/lib/python3.7/site-packages/ipykernel_launcher.py:10: SettingWithCopyWarning: \n",
      "A value is trying to be set on a copy of a slice from a DataFrame\n",
      "\n",
      "See the caveats in the documentation: http://pandas.pydata.org/pandas-docs/stable/user_guide/indexing.html#returning-a-view-versus-a-copy\n",
      "  # Remove the CWD from sys.path while we load stuff.\n"
     ]
    }
   ],
   "source": [
    "already_free_sunday = 0\n",
    "current_month = daily_attendance[\"Date\"][0].month\n",
    "for i in range(len(daily_attendance)):\n",
    "    if daily_attendance[\"Date\"][i].month != current_month:\n",
    "        already_free_sunday = 0\n",
    "        current_month = daily_attendance[\"Date\"][i].month\n",
    "    if already_free_sunday == 0:\n",
    "        if daily_attendance[\"Weekday\"][i] == \"Sunday\":\n",
    "            already_free_sunday = 1\n",
    "            daily_attendance[\"Free Sunday\"][i] = 1\n",
    "\n",
    "    "
   ]
  },
  {
   "cell_type": "code",
   "execution_count": 60,
   "metadata": {},
   "outputs": [
    {
     "data": {
      "text/plain": [
       "0    924\n",
       "1     32\n",
       "Name: Free Sunday, dtype: int64"
      ]
     },
     "execution_count": 60,
     "metadata": {},
     "output_type": "execute_result"
    }
   ],
   "source": [
    "daily_attendance[\"Free Sunday\"].value_counts()"
   ]
  },
  {
   "cell_type": "code",
   "execution_count": 61,
   "metadata": {},
   "outputs": [],
   "source": [
    "# Check whether the Free Sunday is correct\n",
    "# daily_attendance[daily_attendance[\"Free Sunday\"]==1].tail(10)"
   ]
  },
  {
   "cell_type": "code",
   "execution_count": 62,
   "metadata": {},
   "outputs": [],
   "source": [
    "# Get the columns that needed to add into the daily-level dataset\n",
    "count_columns = [i for i in exhibit_dummy.columns if i.startswith((\"country\",\"region_\",\"medium_\",\"Timeline\"))]\n",
    "\n",
    "aggregate_columns = [i for i in exhibit_dummy.columns if not i.startswith((\"country\",\"region_\",\"medium_\",\"Timeline\")) ]\n",
    "aggregate_columns = aggregate_columns[3:]\n"
   ]
  },
  {
   "cell_type": "code",
   "execution_count": 63,
   "metadata": {},
   "outputs": [],
   "source": [
    "# Add Count columns into daily-level dataset\n",
    "for column_name in count_columns:\n",
    "    daily_attendance.insert(len(daily_attendance.columns),column_name,0)\n",
    "    "
   ]
  },
  {
   "cell_type": "code",
   "execution_count": 64,
   "metadata": {},
   "outputs": [],
   "source": [
    "# Add Aggregate columns into daily-level dataset\n",
    "for column_name in aggregate_columns:\n",
    "    tmp = column_name\n",
    "    tmp = \"avg_\" + tmp\n",
    "    daily_attendance.insert(len(daily_attendance.columns),tmp,0)\n",
    "    tmp = column_name\n",
    "    tmp = \"max_\" + tmp\n",
    "    daily_attendance.insert(len(daily_attendance.columns),tmp,0)\n",
    "    tmp = column_name\n",
    "    tmp = \"min_\" + tmp\n",
    "    daily_attendance.insert(len(daily_attendance.columns),tmp,0)"
   ]
  },
  {
   "cell_type": "code",
   "execution_count": 65,
   "metadata": {},
   "outputs": [],
   "source": [
    "# Define a function to transform int to float\n",
    "def int_to_float(x):\n",
    "    x = float(x)\n",
    "    return x"
   ]
  },
  {
   "cell_type": "code",
   "execution_count": 66,
   "metadata": {},
   "outputs": [],
   "source": [
    "# Transform column type to float\n",
    "for column in [i for i in daily_attendance.columns if i not in [\"Date\",\"Weekday\"]]:\n",
    "    daily_attendance[column] = daily_attendance[column].astype(float)"
   ]
  },
  {
   "cell_type": "code",
   "execution_count": 67,
   "metadata": {},
   "outputs": [],
   "source": [
    "# daily_attendance.head(1)"
   ]
  },
  {
   "cell_type": "code",
   "execution_count": 68,
   "metadata": {},
   "outputs": [],
   "source": [
    "# exhibit_dummy.columns"
   ]
  },
  {
   "cell_type": "code",
   "execution_count": 69,
   "metadata": {},
   "outputs": [],
   "source": [
    "# daily_attendance.head(1)"
   ]
  },
  {
   "cell_type": "code",
   "execution_count": 70,
   "metadata": {},
   "outputs": [
    {
     "name": "stderr",
     "output_type": "stream",
     "text": [
      "/Users/lush/opt/anaconda3/lib/python3.7/site-packages/ipykernel_launcher.py:33: SettingWithCopyWarning: \n",
      "A value is trying to be set on a copy of a slice from a DataFrame\n",
      "\n",
      "See the caveats in the documentation: http://pandas.pydata.org/pandas-docs/stable/user_guide/indexing.html#returning-a-view-versus-a-copy\n",
      "/Users/lush/opt/anaconda3/lib/python3.7/site-packages/ipykernel_launcher.py:42: SettingWithCopyWarning: \n",
      "A value is trying to be set on a copy of a slice from a DataFrame\n",
      "\n",
      "See the caveats in the documentation: http://pandas.pydata.org/pandas-docs/stable/user_guide/indexing.html#returning-a-view-versus-a-copy\n",
      "/Users/lush/opt/anaconda3/lib/python3.7/site-packages/ipykernel_launcher.py:43: SettingWithCopyWarning: \n",
      "A value is trying to be set on a copy of a slice from a DataFrame\n",
      "\n",
      "See the caveats in the documentation: http://pandas.pydata.org/pandas-docs/stable/user_guide/indexing.html#returning-a-view-versus-a-copy\n",
      "/Users/lush/opt/anaconda3/lib/python3.7/site-packages/ipykernel_launcher.py:44: SettingWithCopyWarning: \n",
      "A value is trying to be set on a copy of a slice from a DataFrame\n",
      "\n",
      "See the caveats in the documentation: http://pandas.pydata.org/pandas-docs/stable/user_guide/indexing.html#returning-a-view-versus-a-copy\n"
     ]
    }
   ],
   "source": [
    "for day_index in range(len(daily_attendance)):\n",
    "    # Create aggregated columns list\n",
    "    size_list = [0]\n",
    "    material_exclusitivity_list = [0]\n",
    "    space_list = [0]\n",
    "    exclusivity_list = [0]\n",
    "    Stories_list = [0]\n",
    "    topic_popularity_list = [0]\n",
    "    artists_popularity_list  = [0]\n",
    "    Exhibit_Prioritized_Ranking_list = [0]\n",
    "    Market_Budget_Flag_list = [0]\n",
    "    \n",
    "    # Create aggregated columns dictionary\n",
    "    column_dict = {\"size_list\":size_list, \"material_exclusitivity_list\":material_exclusitivity_list,\"space_list\":space_list \\\n",
    "                  ,\"exclusivity_list\":exclusivity_list,\"Stories_list\":Stories_list, \"topic_popularity_list\":topic_popularity_list \\\n",
    "                  ,\"artists_popularity_list\":artists_popularity_list, \"Exhibit_Prioritized_Ranking_list\":Exhibit_Prioritized_Ranking_list \\\n",
    "                  ,\"Market_Budget_Flag_list\":Market_Budget_Flag_list}\n",
    "\n",
    "    for exhibit_index in range(len(exhibit_dummy)):\n",
    "        if exhibit_dummy[\"start date\"][exhibit_index] <= daily_attendance[\"Date\"][day_index] and exhibit_dummy[\"end date\"][exhibit_index] >= daily_attendance[\"Date\"][day_index]:\n",
    "            # Add aggregated columns to list\n",
    "            size_list.append(exhibit_dummy[\"size\"][exhibit_index])\n",
    "            material_exclusitivity_list.append(exhibit_dummy[\"material exclusitivity\"][exhibit_index])\n",
    "            space_list.append(exhibit_dummy[\"space\"][exhibit_index])\n",
    "            exclusivity_list.append(exhibit_dummy[\"exclusivity\"][exhibit_index])\n",
    "            Stories_list.append(exhibit_dummy[\"Stories\"][exhibit_index])\n",
    "            topic_popularity_list.append(exhibit_dummy[\"topic popularity\"][exhibit_index])\n",
    "            artists_popularity_list.append(exhibit_dummy[\"artists popularity\"][exhibit_index])\n",
    "            Exhibit_Prioritized_Ranking_list.append(exhibit_dummy[\"Exhibit Prioritized Ranking\"][exhibit_index])\n",
    "            Market_Budget_Flag_list.append(exhibit_dummy[\"Market Budget Flag\"][exhibit_index])\n",
    "            # Add count columns to daily-level dataset\n",
    "            for count_column in count_columns:\n",
    "                daily_attendance[count_column][day_index] += exhibit_dummy[count_column][exhibit_index]\n",
    "    \n",
    "    # Add aggregate columns to daily-level dataset\n",
    "    for aggregate_column in aggregate_columns:\n",
    "        column_list_name = aggregate_column.replace(\" \",\"_\") +\"_list\"\n",
    "        tmp_list = column_dict[column_list_name]\n",
    "        tmp_avg_column_name = \"avg_\" + aggregate_column\n",
    "        tmp_min_column_name = \"min_\" + aggregate_column\n",
    "        tmp_max_column_name = \"max_\" + aggregate_column\n",
    "        daily_attendance[tmp_avg_column_name][day_index] = pd.Series(tmp_list).mean()\n",
    "        daily_attendance[tmp_min_column_name][day_index] = pd.Series(tmp_list).min()\n",
    "        daily_attendance[tmp_max_column_name][day_index] = pd.Series(tmp_list).max()\n",
    "\n",
    "        "
   ]
  },
  {
   "cell_type": "code",
   "execution_count": 71,
   "metadata": {},
   "outputs": [],
   "source": [
    "# daily_attendance.describe()"
   ]
  },
  {
   "cell_type": "markdown",
   "metadata": {},
   "source": [
    "# Feature Engineering"
   ]
  },
  {
   "cell_type": "markdown",
   "metadata": {},
   "source": [
    "## Get Moving Average for Attendance"
   ]
  },
  {
   "cell_type": "code",
   "execution_count": 72,
   "metadata": {},
   "outputs": [],
   "source": [
    "# 7 days SMA\n",
    "SMA_7 = daily_attendance[\"Total Attendance\"].shift(1).rolling(window=7).mean()\n",
    "# 14 days SMA\n",
    "SMA_14 = daily_attendance[\"Total Attendance\"].shift(1).rolling(window=14).mean()\n",
    "# 30 days SMA\n",
    "SMA_30 = daily_attendance[\"Total Attendance\"].shift(1).rolling(window=30).mean()\n",
    "\n",
    "# 7 days EMA\n",
    "EMA_7 = daily_attendance[\"Total Attendance\"].shift(1).ewm(span=10,min_periods=7, adjust=False).mean()\n",
    "# 14 days EMA\n",
    "EMA_14 = daily_attendance[\"Total Attendance\"].shift(1).ewm(span=10,min_periods=14, adjust=False).mean()\n",
    "# 30 days EMA\n",
    "EMA_30 = daily_attendance[\"Total Attendance\"].shift(1).ewm(span=10,min_periods=30, adjust=False).mean()\n"
   ]
  },
  {
   "cell_type": "code",
   "execution_count": 73,
   "metadata": {},
   "outputs": [],
   "source": [
    "# Add Moving Average to Daily-level dataset\n",
    "daily_attendance[\"SMA_7\"] = SMA_7\n",
    "daily_attendance[\"SMA_14\"] = SMA_14\n",
    "daily_attendance[\"SMA_30\"] = SMA_30\n",
    "daily_attendance[\"EMA_7\"] = EMA_7\n",
    "daily_attendance[\"EMA_14\"] = EMA_14\n",
    "daily_attendance[\"EMA_30\"] = EMA_30\n"
   ]
  },
  {
   "cell_type": "code",
   "execution_count": 74,
   "metadata": {},
   "outputs": [],
   "source": [
    "# Drop NA rows & Transform column category\n",
    "daily_attendance.dropna(axis = \"index\",inplace = True)\n",
    "daily_attendance.reset_index(inplace = True)\n",
    "Date = daily_attendance[\"Date\"]\n",
    "daily_attendance.drop([\"index\",\"Date\"],axis = 1, inplace = True)\n",
    "daily_attendance[\"Weekday\"] = daily_attendance[\"Weekday\"].astype(\"category\")"
   ]
  },
  {
   "cell_type": "code",
   "execution_count": 75,
   "metadata": {},
   "outputs": [],
   "source": [
    "# daily_attendance.head()"
   ]
  },
  {
   "cell_type": "code",
   "execution_count": 76,
   "metadata": {},
   "outputs": [],
   "source": [
    "# daily_attendance.columns"
   ]
  },
  {
   "cell_type": "markdown",
   "metadata": {},
   "source": [
    "# Modeling"
   ]
  },
  {
   "cell_type": "markdown",
   "metadata": {},
   "source": [
    "## Split the dataset"
   ]
  },
  {
   "cell_type": "code",
   "execution_count": 77,
   "metadata": {},
   "outputs": [],
   "source": [
    "origin_train_set = daily_attendance.iloc[:600,:]\n",
    "origin_test_set = daily_attendance.iloc[600:,:]"
   ]
  },
  {
   "cell_type": "code",
   "execution_count": 78,
   "metadata": {},
   "outputs": [],
   "source": [
    "origin_train_x = origin_train_set.loc[:,[i for i in origin_train_set.columns if i not in [\"Total Attendance\"]]]\n",
    "origin_train_y = origin_train_set[\"Total Attendance\"]\n",
    "origin_train_x_dummy = pd.get_dummies(data = origin_train_x, columns =[\"Weekday\"])"
   ]
  },
  {
   "cell_type": "code",
   "execution_count": 79,
   "metadata": {},
   "outputs": [],
   "source": [
    "origin_test_x = origin_test_set.loc[:,[i for i in origin_test_set.columns if i not in [\"Total Attendance\"]]]\n",
    "origin_test_y = origin_test_set[\"Total Attendance\"]\n",
    "origin_test_x_dummy = pd.get_dummies(data = origin_test_x, columns =[\"Weekday\"])\n",
    "origin_test_y = origin_test_y.reset_index().drop(['index'],axis=1)"
   ]
  },
  {
   "cell_type": "markdown",
   "metadata": {},
   "source": [
    "### Time Series Split"
   ]
  },
  {
   "cell_type": "code",
   "execution_count": 80,
   "metadata": {},
   "outputs": [],
   "source": [
    "from sklearn.model_selection import TimeSeriesSplit\n",
    "\n",
    "ts_split = TimeSeriesSplit(n_splits=5)\n",
    "# for train_index, test_index in ts_split.split(origin_train_x):\n",
    "#     print(\"train_index\", train_index,\"\\n\" \"test_index:\", test_index)\n",
    "#     X_train, X_test = origin_train_x.iloc[train_index,:], origin_train_x.iloc[test_index,:]\n",
    "#     y_train, y_test = origin_train_y.iloc[train_index], origin_train_y.iloc[test_index]"
   ]
  },
  {
   "cell_type": "markdown",
   "metadata": {},
   "source": [
    "## Simple Linear Regression"
   ]
  },
  {
   "cell_type": "code",
   "execution_count": 81,
   "metadata": {},
   "outputs": [
    {
     "data": {
      "text/plain": [
       "LinearRegression(copy_X=True, fit_intercept=True, n_jobs=None, normalize=False)"
      ]
     },
     "execution_count": 81,
     "metadata": {},
     "output_type": "execute_result"
    }
   ],
   "source": [
    "from sklearn.linear_model import LinearRegression\n",
    "lm_model = LinearRegression()\n",
    "lm_model.fit(origin_train_x_dummy,origin_train_y)"
   ]
  },
  {
   "cell_type": "code",
   "execution_count": 82,
   "metadata": {},
   "outputs": [
    {
     "data": {
      "text/plain": [
       "-11.334771183178011"
      ]
     },
     "execution_count": 82,
     "metadata": {},
     "output_type": "execute_result"
    }
   ],
   "source": [
    "lm_model.score(origin_test_x_dummy,origin_test_y)"
   ]
  },
  {
   "cell_type": "markdown",
   "metadata": {},
   "source": [
    "## Random Forest"
   ]
  },
  {
   "cell_type": "code",
   "execution_count": 83,
   "metadata": {},
   "outputs": [
    {
     "name": "stderr",
     "output_type": "stream",
     "text": [
      "/Users/lush/opt/anaconda3/lib/python3.7/site-packages/sklearn/ensemble/forest.py:245: FutureWarning: The default value of n_estimators will change from 10 in version 0.20 to 100 in 0.22.\n",
      "  \"10 in version 0.20 to 100 in 0.22.\", FutureWarning)\n"
     ]
    }
   ],
   "source": [
    "from sklearn.ensemble import RandomForestRegressor\n",
    "RF_model = RandomForestRegressor()\n",
    "RF_model.fit(origin_train_x_dummy,origin_train_y)\n",
    "RF_score = RF_model.score(origin_test_x_dummy,origin_test_y)\n",
    "RF_predict = RF_model.predict(origin_test_x_dummy)"
   ]
  },
  {
   "cell_type": "code",
   "execution_count": 84,
   "metadata": {},
   "outputs": [
    {
     "name": "stderr",
     "output_type": "stream",
     "text": [
      "/Users/lush/opt/anaconda3/lib/python3.7/site-packages/ipykernel_launcher.py:2: SettingWithCopyWarning: \n",
      "A value is trying to be set on a copy of a slice from a DataFrame\n",
      "\n",
      "See the caveats in the documentation: http://pandas.pydata.org/pandas-docs/stable/user_guide/indexing.html#returning-a-view-versus-a-copy\n",
      "  \n",
      "/Users/lush/opt/anaconda3/lib/python3.7/site-packages/ipykernel_launcher.py:3: SettingWithCopyWarning: \n",
      "A value is trying to be set on a copy of a slice from a DataFrame\n",
      "\n",
      "See the caveats in the documentation: http://pandas.pydata.org/pandas-docs/stable/user_guide/indexing.html#returning-a-view-versus-a-copy\n",
      "  This is separate from the ipykernel package so we can avoid doing imports until\n"
     ]
    }
   ],
   "source": [
    "for i in range(len(Date)):\n",
    "    Date[i] = str(Date[i].year) + \"-\" + str(Date[i].month) + \"-\" + str(Date[i].day)\n",
    "    Date[i] = str(Date[i])"
   ]
  },
  {
   "cell_type": "code",
   "execution_count": 85,
   "metadata": {},
   "outputs": [],
   "source": [
    "# Plot the real daily attendance & predicted value\n",
    "# plt.figure(figsize = (16,8))\n",
    "# plt.plot(RF_predict)\n",
    "# plt.plot(origin_test_y)\n",
    "# plt.title(\"Daily Attendance for Museum\", fontsize = 16)\n",
    "# plt.ylabel(\"Daily Attendance\",fontsize = 14)\n",
    "# plt.xlabel(\"Days\",fontsize = 14)\n",
    "# plt.xticks(np.linspace(1,326,5),pd.DataFrame(Date)[\"Date\"][[int(600+i*325/5) for i in [1,2,3,4,5]]])\n",
    "# plt.legend([\"Predicted_value\",\"Real value\"], loc = \"upper left\")\n",
    "# plt.show()\n"
   ]
  },
  {
   "cell_type": "code",
   "execution_count": 86,
   "metadata": {},
   "outputs": [
    {
     "data": {
      "text/plain": [
       "0.6076915684320409"
      ]
     },
     "execution_count": 86,
     "metadata": {},
     "output_type": "execute_result"
    }
   ],
   "source": [
    "RF_score"
   ]
  },
  {
   "cell_type": "markdown",
   "metadata": {},
   "source": [
    "### Tuning Hyperparameters for Random Forest Model"
   ]
  },
  {
   "cell_type": "code",
   "execution_count": 87,
   "metadata": {},
   "outputs": [],
   "source": [
    "from sklearn.model_selection import RandomizedSearchCV\n",
    "n_estimators = [int(x) for x in np.linspace(start = 200, stop = 2000, num = 10)]\n",
    "max_features = ['auto', 'sqrt']\n",
    "max_depth = [int(x) for x in np.linspace(10, 110, num = 11)]\n",
    "max_depth.append(None)\n",
    "min_samples_split = [2, 5, 10]\n",
    "min_samples_leaf = [1, 2, 4]\n",
    "bootstrap = [True, False]\n",
    "\n",
    "# Create the random grid\n",
    "random_grid = {'n_estimators': n_estimators,\n",
    "               'max_features': max_features,\n",
    "               'max_depth': max_depth,\n",
    "               'min_samples_split': min_samples_split,\n",
    "               'min_samples_leaf': min_samples_leaf,\n",
    "               'bootstrap': bootstrap}\n"
   ]
  },
  {
   "cell_type": "code",
   "execution_count": 88,
   "metadata": {},
   "outputs": [
    {
     "name": "stdout",
     "output_type": "stream",
     "text": [
      "Fitting 5 folds for each of 200 candidates, totalling 1000 fits\n"
     ]
    },
    {
     "name": "stderr",
     "output_type": "stream",
     "text": [
      "[Parallel(n_jobs=-1)]: Using backend LokyBackend with 8 concurrent workers.\n",
      "[Parallel(n_jobs=-1)]: Done  25 tasks      | elapsed:   20.6s\n",
      "[Parallel(n_jobs=-1)]: Done 146 tasks      | elapsed:  1.8min\n",
      "[Parallel(n_jobs=-1)]: Done 349 tasks      | elapsed:  3.8min\n",
      "[Parallel(n_jobs=-1)]: Done 632 tasks      | elapsed:  6.1min\n",
      "[Parallel(n_jobs=-1)]: Done 1000 out of 1000 | elapsed: 10.1min finished\n"
     ]
    }
   ],
   "source": [
    "RF = RandomForestRegressor()\n",
    "RF_RandomSearch = RandomizedSearchCV(estimator = RF, param_distributions = random_grid, n_iter = 200, cv = ts_split.split(origin_train_x), verbose=2, random_state=42, n_jobs = -1)\n",
    "RF_RandomSearch.fit(origin_train_x_dummy, origin_train_y)\n",
    "RF_RandomSearch_predict = RF_RandomSearch.predict(origin_test_x_dummy)\n",
    "RF_RandomSearch_score = RF_RandomSearch.score(origin_test_x_dummy,origin_test_y)\n",
    "\n"
   ]
  },
  {
   "cell_type": "code",
   "execution_count": 89,
   "metadata": {},
   "outputs": [
    {
     "data": {
      "text/plain": [
       "RandomForestRegressor(bootstrap=True, criterion='mse', max_depth=50,\n",
       "                      max_features='auto', max_leaf_nodes=None,\n",
       "                      min_impurity_decrease=0.0, min_impurity_split=None,\n",
       "                      min_samples_leaf=4, min_samples_split=5,\n",
       "                      min_weight_fraction_leaf=0.0, n_estimators=200,\n",
       "                      n_jobs=None, oob_score=False, random_state=None,\n",
       "                      verbose=0, warm_start=False)"
      ]
     },
     "execution_count": 89,
     "metadata": {},
     "output_type": "execute_result"
    }
   ],
   "source": [
    "RF_RandomSearch.best_estimator_"
   ]
  },
  {
   "cell_type": "code",
   "execution_count": 90,
   "metadata": {},
   "outputs": [],
   "source": [
    "# Build a Random Forest model using the optimized hyperparameters\n",
    "RF_RS_model = RandomForestRegressor(bootstrap=True, criterion='mse', max_depth=40,\n",
    "                      max_features='auto', max_leaf_nodes=None,\n",
    "                      min_impurity_decrease=0.0, min_impurity_split=None,\n",
    "                      min_samples_leaf=4, min_samples_split=10,\n",
    "                      min_weight_fraction_leaf=0.0, n_estimators=200,\n",
    "                      n_jobs=None, oob_score=False, random_state=None,\n",
    "                      verbose=0, warm_start=False)\n",
    "RF_RS_model.fit(origin_train_x_dummy, origin_train_y)\n",
    "RF_RS_predict = RF_RS_model.predict(origin_test_x_dummy)\n",
    "RF_RS_score = RF_RS_model.score(origin_test_x_dummy,origin_test_y)"
   ]
  },
  {
   "cell_type": "code",
   "execution_count": 91,
   "metadata": {},
   "outputs": [
    {
     "data": {
      "text/plain": [
       "0.7256363622526427"
      ]
     },
     "execution_count": 91,
     "metadata": {},
     "output_type": "execute_result"
    }
   ],
   "source": [
    "RF_RS_score"
   ]
  },
  {
   "cell_type": "markdown",
   "metadata": {},
   "source": [
    "### Plot the feature importance"
   ]
  },
  {
   "cell_type": "code",
   "execution_count": 92,
   "metadata": {},
   "outputs": [],
   "source": [
    "feature = origin_train_x_dummy.columns.values\n",
    "feature_importance = RF_RS_model.feature_importances_\n",
    "feature_importance_df = pd.DataFrame({\"feature\":feature, \"feature_importance\":feature_importance})\n",
    "feature_importance_df.sort_values(by = \"feature_importance\", ascending = False, inplace = True)\n",
    "# feature_importance_df = feature_importance_df.iloc[:10,]"
   ]
  },
  {
   "cell_type": "code",
   "execution_count": 93,
   "metadata": {},
   "outputs": [
    {
     "name": "stderr",
     "output_type": "stream",
     "text": [
      "/Users/lush/opt/anaconda3/lib/python3.7/site-packages/ipykernel_launcher.py:2: SettingWithCopyWarning: \n",
      "A value is trying to be set on a copy of a slice from a DataFrame\n",
      "\n",
      "See the caveats in the documentation: http://pandas.pydata.org/pandas-docs/stable/user_guide/indexing.html#returning-a-view-versus-a-copy\n",
      "  \n"
     ]
    }
   ],
   "source": [
    "feature_importance_10_df = feature_importance_df.iloc[:10,]\n",
    "feature_importance_10_df.sort_values(by = \"feature_importance\", ascending = True, inplace = True)"
   ]
  },
  {
   "cell_type": "code",
   "execution_count": 94,
   "metadata": {},
   "outputs": [
    {
     "data": {
      "image/png": "[encoded data removed]",
      "text/plain": [
       "<Figure size 432x288 with 1 Axes>"
      ]
     },
     "metadata": {
      "needs_background": "light"
     },
     "output_type": "display_data"
    }
   ],
   "source": [
    "plt.figure()\n",
    "num_feature = len(feature)\n",
    "plt.barh(list(np.linspace(0,10-1,10)), feature_importance_10_df[\"feature_importance\"], alpha=0.5)\n",
    "plt.yticks(list(np.linspace(0,10-1,10)),feature_importance_10_df[\"feature\"])\n",
    "plt.xlabel(\"Relative Importance\")\n",
    "plt.title(\"Feature Importance\")\n",
    "plt.show()"
   ]
  },
  {
   "cell_type": "code",
   "execution_count": 95,
   "metadata": {},
   "outputs": [
    {
     "data": {
      "text/plain": [
       "array([5.60512151e-01, 5.88055412e-06, 7.24016125e-03, 8.20094633e-04,\n",
       "       1.91020272e-03, 5.01620389e-05, 9.92870594e-04, 5.87258512e-05,\n",
       "       7.12621642e-05, 5.06754833e-04, 0.00000000e+00, 8.60857344e-03,\n",
       "       1.30045270e-03, 7.49713979e-04, 2.86299381e-04, 5.99791148e-04,\n",
       "       6.07044486e-04, 6.00607610e-05, 3.02483474e-05, 9.36678898e-06,\n",
       "       2.08684384e-05, 1.48351286e-03, 1.17236974e-03, 1.33205414e-03,\n",
       "       1.30580654e-03, 4.34277351e-04, 0.00000000e+00, 3.53752211e-02,\n",
       "       8.04095947e-04, 9.35777420e-04, 6.17209132e-05, 0.00000000e+00,\n",
       "       4.72999479e-03, 4.31376435e-03, 0.00000000e+00, 6.16048580e-03,\n",
       "       5.96639806e-03, 0.00000000e+00, 3.49269651e-03, 1.27487325e-04,\n",
       "       0.00000000e+00, 1.44476583e-02, 1.15019456e-04, 0.00000000e+00,\n",
       "       3.95953205e-03, 2.99454492e-03, 0.00000000e+00, 1.86121193e-03,\n",
       "       1.83810268e-04, 0.00000000e+00, 1.15917883e-02, 5.81487490e-03,\n",
       "       0.00000000e+00, 1.00776379e-02, 9.59763007e-03, 0.00000000e+00,\n",
       "       1.74411638e-02, 3.38398205e-02, 1.75405204e-02, 1.71140362e-02,\n",
       "       1.25254357e-02, 1.08764800e-02, 3.06233384e-03, 1.09178051e-01,\n",
       "       2.05721185e-02, 2.87947045e-02, 7.33799684e-03, 4.97243651e-03,\n",
       "       3.96484709e-03])"
      ]
     },
     "execution_count": 95,
     "metadata": {},
     "output_type": "execute_result"
    }
   ],
   "source": [
    "RF_RS_model.feature_importances_"
   ]
  },
  {
   "cell_type": "code",
   "execution_count": 96,
   "metadata": {},
   "outputs": [],
   "source": [
    "# Results for Random Searched Random Forest Model\n",
    "# plt.figure(figsize = (16,8))\n",
    "# plt.plot(RF_RandomSearch_predict)\n",
    "# plt.plot(origin_test_y)\n",
    "# plt.title(\"Daily Attendance for Museum\", fontsize = 16)\n",
    "# plt.legend([\"Predicted_value\",\"Real value\"], loc = \"upper left\")\n",
    "# plt.ylabel(\"Daily Attendance\",fontsize = 14)\n",
    "# plt.xlabel(\"Days\",fontsize = 14)\n",
    "# plt.xticks(np.linspace(1,326,5),pd.DataFrame(Date)[\"Date\"][[int(600+i*325/5) for i in [1,2,3,4,5]]])\n",
    "# plt.show()\n"
   ]
  }
 ],
 "metadata": {
  "kernelspec": {
   "display_name": "Python 3",
   "language": "python",
   "name": "python3"
  },
  "language_info": {
   "codemirror_mode": {
    "name": "ipython",
    "version": 3
   },
   "file_extension": ".py",
   "mimetype": "text/x-python",
   "name": "python",
   "nbconvert_exporter": "python",
   "pygments_lexer": "ipython3",
   "version": "3.7.4"
  }
 },
 "nbformat": 4,
 "nbformat_minor": 2
}
